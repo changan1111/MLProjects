{
  "nbformat": 4,
  "nbformat_minor": 0,
  "metadata": {
    "colab": {
      "provenance": [],
      "authorship_tag": "ABX9TyMBJB5RpW2b21ngiLBx4SRx",
      "include_colab_link": true
    },
    "kernelspec": {
      "name": "python3",
      "display_name": "Python 3"
    },
    "language_info": {
      "name": "python"
    }
  },
  "cells": [
    {
      "cell_type": "markdown",
      "metadata": {
        "id": "view-in-github",
        "colab_type": "text"
      },
      "source": [
        "<a href=\"https://colab.research.google.com/github/changan1111/MLProjects/blob/main/TranscriptionToDoc.ipynb\" target=\"_parent\"><img src=\"https://colab.research.google.com/assets/colab-badge.svg\" alt=\"Open In Colab\"/></a>"
      ]
    },
    {
      "cell_type": "code",
      "execution_count": null,
      "metadata": {
        "colab": {
          "base_uri": "https://localhost:8080/"
        },
        "id": "zebNExhC-DKn",
        "outputId": "9215340a-d2df-48b1-e303-0017217c7619"
      },
      "outputs": [
        {
          "output_type": "stream",
          "name": "stdout",
          "text": [
            "Requirement already satisfied: transformers in /usr/local/lib/python3.10/dist-packages (4.31.0)\n",
            "Requirement already satisfied: filelock in /usr/local/lib/python3.10/dist-packages (from transformers) (3.12.2)\n",
            "Requirement already satisfied: huggingface-hub<1.0,>=0.14.1 in /usr/local/lib/python3.10/dist-packages (from transformers) (0.16.4)\n",
            "Requirement already satisfied: numpy>=1.17 in /usr/local/lib/python3.10/dist-packages (from transformers) (1.23.5)\n",
            "Requirement already satisfied: packaging>=20.0 in /usr/local/lib/python3.10/dist-packages (from transformers) (23.1)\n",
            "Requirement already satisfied: pyyaml>=5.1 in /usr/local/lib/python3.10/dist-packages (from transformers) (6.0.1)\n",
            "Requirement already satisfied: regex!=2019.12.17 in /usr/local/lib/python3.10/dist-packages (from transformers) (2023.6.3)\n",
            "Requirement already satisfied: requests in /usr/local/lib/python3.10/dist-packages (from transformers) (2.31.0)\n",
            "Requirement already satisfied: tokenizers!=0.11.3,<0.14,>=0.11.1 in /usr/local/lib/python3.10/dist-packages (from transformers) (0.13.3)\n",
            "Requirement already satisfied: safetensors>=0.3.1 in /usr/local/lib/python3.10/dist-packages (from transformers) (0.3.2)\n",
            "Requirement already satisfied: tqdm>=4.27 in /usr/local/lib/python3.10/dist-packages (from transformers) (4.66.1)\n",
            "Requirement already satisfied: fsspec in /usr/local/lib/python3.10/dist-packages (from huggingface-hub<1.0,>=0.14.1->transformers) (2023.6.0)\n",
            "Requirement already satisfied: typing-extensions>=3.7.4.3 in /usr/local/lib/python3.10/dist-packages (from huggingface-hub<1.0,>=0.14.1->transformers) (4.7.1)\n",
            "Requirement already satisfied: charset-normalizer<4,>=2 in /usr/local/lib/python3.10/dist-packages (from requests->transformers) (3.2.0)\n",
            "Requirement already satisfied: idna<4,>=2.5 in /usr/local/lib/python3.10/dist-packages (from requests->transformers) (3.4)\n",
            "Requirement already satisfied: urllib3<3,>=1.21.1 in /usr/local/lib/python3.10/dist-packages (from requests->transformers) (2.0.4)\n",
            "Requirement already satisfied: certifi>=2017.4.17 in /usr/local/lib/python3.10/dist-packages (from requests->transformers) (2023.7.22)\n",
            "Requirement already satisfied: python-docx in /usr/local/lib/python3.10/dist-packages (0.8.11)\n",
            "Requirement already satisfied: lxml>=2.3.2 in /usr/local/lib/python3.10/dist-packages (from python-docx) (4.9.3)\n"
          ]
        }
      ],
      "source": [
        "!pip install transformers\n",
        "!pip install python-docx\n"
      ]
    },
    {
      "cell_type": "code",
      "source": [
        "from transformers import pipeline\n",
        "from docx import Document\n",
        "from docx.enum.text import WD_PARAGRAPH_ALIGNMENT\n",
        "from docx.shared import Pt\n",
        "\n",
        "# Load summarization pipeline\n",
        "summarizer = pipeline(\"summarization\")\n",
        "\n",
        "# Read transcript from the text file\n",
        "transcript_file_path = \"/content/Transcription.txt\"\n",
        "with open(transcript_file_path, \"r\") as file:\n",
        "    transcript = file.read()\n",
        "\n",
        "# Generate abstractive summary\n",
        "summary = summarizer(transcript, max_length=700, min_length=50, do_sample=False)\n",
        "summary_text = summary[0]['summary_text']\n",
        "\n",
        "from transformers import pipeline\n",
        "\n",
        "# Use the title generation pipeline\n",
        "title_generator = pipeline(\"text2text-generation\", model=\"deep-learning-analytics/automatic-title-generation\")\n",
        "\n",
        "# Generate a title for the summary\n",
        "title_result = title_generator(summary_text)\n",
        "generated_title = title_result[0]['generated_text'].strip()\n",
        "print(\"Summary: \", summary_text)\n",
        "print(\"Title: \", generated_title)\n",
        "\n",
        "# Create a new Word document\n",
        "doc = Document()\n",
        "\n",
        "# Add the title based on the most prominent topic\n",
        "doc.add_heading(\" \".join(generated_title), level=1)\n",
        "\n",
        "# Add the summary to the document\n",
        "paragraph = doc.add_paragraph(summary_text)\n",
        "paragraph.alignment = WD_PARAGRAPH_ALIGNMENT.JUSTIFY\n",
        "\n",
        "# Adjust the paragraph font size\n",
        "paragraph_style = doc.styles['Normal']\n",
        "paragraph_font = paragraph_style.font\n",
        "paragraph_font.size = Pt(16)\n",
        "\n",
        "# Save the document\n",
        "doc.save(\"/content/Transcription_Summary.docx\")\n"
      ],
      "metadata": {
        "colab": {
          "base_uri": "https://localhost:8080/"
        },
        "id": "hY7TsmE3FfGX",
        "outputId": "0c536e98-a2ac-4a6b-ebc7-5fd6d5172670"
      },
      "execution_count": null,
      "outputs": [
        {
          "output_type": "stream",
          "name": "stderr",
          "text": [
            "No model was supplied, defaulted to sshleifer/distilbart-cnn-12-6 and revision a4f8f3e (https://huggingface.co/sshleifer/distilbart-cnn-12-6).\n",
            "Using a pipeline without specifying a model name and revision in production is not recommended.\n"
          ]
        },
        {
          "output_type": "stream",
          "name": "stdout",
          "text": [
            "Summary:   The Online Editor tool is an online tool that can be accessed via the link included in the email containing the transcript result . This tool offers the possibility to review and edit the transcripts . By using the bar at the bottom of the tool, the audio file can be played at standard speed .\n",
            "Title:  The Online Editor tool\n"
          ]
        }
      ]
    },
    {
      "cell_type": "code",
      "source": [
        "from gensim import corpora, models\n",
        "from transformers import pipeline\n",
        "from docx import Document\n",
        "from docx.enum.text import WD_PARAGRAPH_ALIGNMENT\n",
        "from docx.shared import Pt\n",
        "\n",
        "# Load summarization pipeline\n",
        "summarizer = pipeline(\"summarization\")\n",
        "\n",
        "# Read transcript from the text file\n",
        "transcript_file_path = \"/content/Transcription.txt\"\n",
        "with open(transcript_file_path, \"r\") as file:\n",
        "    transcript = file.read()\n",
        "\n",
        "# Generate abstractive summary\n",
        "summary = summarizer(transcript, max_length=700, min_length=50, do_sample=False)\n",
        "summary_text = summary[0]['summary_text']\n",
        "\n",
        "from transformers import pipeline\n",
        "\n",
        "pipe = pipeline(\"text2text-generation\", model=\"deep-learning-analytics/automatic-title-generation\")\n",
        "\n",
        "input_text = summary_text\n",
        "title = pipe.predict(input_text)\n",
        "print(title)"
      ],
      "metadata": {
        "id": "5cfQ6fIhWFIV"
      },
      "execution_count": null,
      "outputs": []
    },
    {
      "cell_type": "markdown",
      "source": [
        "# New Section"
      ],
      "metadata": {
        "id": "2ZAnPgAtWlXT"
      }
    },
    {
      "cell_type": "markdown",
      "source": [
        "# New Section"
      ],
      "metadata": {
        "id": "Yku2l-nzWl6L"
      }
    },
    {
      "cell_type": "code",
      "source": [
        "from transformers import pipeline, BertTokenizer, BertForMaskedLM\n",
        "import torch\n",
        "\n",
        "# Load summarization pipeline\n",
        "summarizer = pipeline(\"summarization\")\n",
        "\n",
        "# Read transcript from the text file\n",
        "transcript_file_path = \"/content/Transcription.txt\"\n",
        "with open(transcript_file_path, \"r\") as file:\n",
        "    transcript = file.read()\n",
        "\n",
        "# Generate abstractive summary\n",
        "summary = summarizer(transcript, max_length=700, min_length=50, do_sample=False)\n",
        "\n",
        "# Load pre-trained BERT model and tokenizer\n",
        "model_name = 'bert-base-uncased'\n",
        "tokenizer = BertTokenizer.from_pretrained(model_name)\n",
        "model = BertForMaskedLM.from_pretrained(model_name)\n",
        "\n",
        "# Generate masked text for title generation\n",
        "masked_text = \"[MASK] Editor Tool is an online tool that can be [MASK]\"\n",
        "\n",
        "# Tokenize the masked text\n",
        "input_ids = tokenizer.encode(masked_text, return_tensors='pt')\n",
        "\n",
        "# Generate predictions\n",
        "with torch.no_grad():\n",
        "    outputs = model(input_ids)\n",
        "    predictions = outputs.logits.argmax(dim=-1)\n",
        "\n",
        "# Convert predictions to text\n",
        "predicted_title = tokenizer.decode(predictions[0], skip_special_tokens=True)\n",
        "\n",
        "# Print the generated summary and title\n",
        "print(\"Generated Summary:\", summary[0]['summary_text'])\n",
        "print(\"Generated Title:\", predicted_title)\n",
        "\n"
      ],
      "metadata": {
        "id": "kpoO_L-_Krzb"
      },
      "execution_count": null,
      "outputs": []
    },
    {
      "cell_type": "code",
      "source": [
        "# Use a pipeline as a high-level helper\n",
        "from transformers import pipeline\n",
        "\n",
        "pipe = pipeline(\"text2text-generation\", model=\"deep-learning-analytics/automatic-title-generation\")\n",
        "\n",
        "input_text = \"The Online Editor tool is an online tool that can be accessed via the link included in the email containing the transcript result . This tool offers the possibility to review and edit the transcripts . By using the bar at the bottom of the tool, the audio file can be played at standard speed.\"\n",
        "title = pipe.predict(input_text)\n",
        "print(title)"
      ],
      "metadata": {
        "id": "zmlyVH3dMBES"
      },
      "execution_count": null,
      "outputs": []
    },
    {
      "cell_type": "code",
      "source": [
        "from transformers import pipeline\n",
        "\n",
        "# Load summarization pipeline\n",
        "summarizer = pipeline(\"summarization\")\n",
        "\n",
        "# Read transcript from the text file\n",
        "transcript_file_path = \"/content/Transcription.txt\"\n",
        "with open(transcript_file_path, \"r\") as file:\n",
        "    transcript = file.read()\n",
        "\n",
        "# Generate abstractive summary\n",
        "summary = summarizer(transcript, max_length=700, min_length=50, do_sample=False)\n",
        "\n",
        "# Print the generated summary\n",
        "print(summary[0]['summary_text'])\n"
      ],
      "metadata": {
        "id": "XaDXqBnH-ED4"
      },
      "execution_count": null,
      "outputs": []
    },
    {
      "cell_type": "code",
      "source": [
        "pipe = pipeline(\"text-classification\")\n",
        "pipe(\"This restaurant is awesome\")"
      ],
      "metadata": {
        "id": "9ixrvzydDn6a"
      },
      "execution_count": null,
      "outputs": []
    },
    {
      "cell_type": "code",
      "source": [
        "from transformers import pipeline\n",
        "\n",
        "tasks = pipeline(task=\"task_list\", model=\"distilbert-base-uncased-finetuned-sst-2-english\", revision=\"af0f99b\")\n",
        "\n",
        "print(\"Available tasks:\")\n",
        "for task in tasks:\n",
        "    print(task)\n"
      ],
      "metadata": {
        "id": "cW6_a928EnZX"
      },
      "execution_count": null,
      "outputs": []
    }
  ]
}